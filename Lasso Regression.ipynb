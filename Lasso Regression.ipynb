{
 "cells": [
  {
   "cell_type": "code",
   "execution_count": 1,
   "metadata": {},
   "outputs": [],
   "source": [
    "import cvxpy as cp\n",
    "import numpy as np\n",
    "import matplotlib.pyplot as plt\n",
    "from scipy.stats import bernoulli"
   ]
  },
  {
   "cell_type": "code",
   "execution_count": 2,
   "metadata": {},
   "outputs": [],
   "source": [
    "def loss_fn(X, Y, beta):\n",
    "    return cp.norm2(X @ beta - Y)**2\n",
    "\n",
    "def regularizer(beta):\n",
    "    return cp.norm1(beta)\n",
    "\n",
    "def objective_fn(X, Y, beta, lambd):\n",
    "    return loss_fn(X, Y, beta) + lambd * regularizer(beta)\n",
    "\n",
    "def mse(X, Y, beta):\n",
    "    return (1.0 / X.shape[0]) * loss_fn(X, Y, beta).value"
   ]
  },
  {
   "cell_type": "code",
   "execution_count": 3,
   "metadata": {},
   "outputs": [],
   "source": [
    "np.random.seed(69)\n",
    "m = 30\n",
    "n = 100\n",
    "A = np.random.randn(m,n)\n",
    "epsilon = np.random.normal(0,0.5,size = (m,))\n",
    "X = bernoulli.rvs(0.2,0.8,size = n)\n",
    "y = np.matmul(A,X) + epsilon"
   ]
  },
  {
   "cell_type": "code",
   "execution_count": 10,
   "metadata": {},
   "outputs": [],
   "source": [
    "errors = []\n",
    "beta_values = []\n",
    "beta = cp.Variable(n)\n",
    "lambd = cp.Parameter(nonneg=True)\n",
    "problem = cp.Problem(cp.Minimize(objective_fn(X, y, beta, lambd)))\n",
    "lambd_values = [1,10,100,200,500,1000]\n",
    "for v in lambd_values:\n",
    "    lambd.value = v\n",
    "    problem.solve()\n",
    "    errors.append(mse(X, y, beta))\n",
    "    beta_values.append(beta.value)\n"
   ]
  },
  {
   "cell_type": "code",
   "execution_count": 11,
   "metadata": {},
   "outputs": [
    {
     "data": {
      "text/plain": [
       "[3.1493503373773066,\n",
       " 3.157600800072811,\n",
       " 3.196679887820699,\n",
       " 3.1966798880709466,\n",
       " 3.1966798877170532,\n",
       " 3.1966798880805993]"
      ]
     },
     "execution_count": 11,
     "metadata": {},
     "output_type": "execute_result"
    }
   ],
   "source": [
    "errors"
   ]
  },
  {
   "cell_type": "code",
   "execution_count": 12,
   "metadata": {},
   "outputs": [
    {
     "data": {
      "image/png": "[encoded data removed]",
      "text/plain": [
       "<Figure size 720x504 with 1 Axes>"
      ]
     },
     "metadata": {
      "needs_background": "light"
     },
     "output_type": "display_data"
    }
   ],
   "source": [
    "plt.figure(figsize = (10,7))\n",
    "plt.plot(lambd_values,errors)\n",
    "plt.xlabel(\"Regularization parameter value (lambda)\")\n",
    "plt.ylabel(\"Mean squared error\")\n",
    "plt.scatter(lambd_values,errors)\n",
    "plt.show()"
   ]
  },
  {
   "cell_type": "markdown",
   "metadata": {},
   "source": [
    "As we can see the, the errors increase as the magnitude of lambda values(regularization parameter) increases, but, it has an upper bound at 3.196 for this problem.\n",
    "Hence, the regularization parameter, regularizes the sparse coeffiecient matrix and reduces the mean squared error."
   ]
  },
  {
   "cell_type": "code",
   "execution_count": null,
   "metadata": {},
   "outputs": [],
   "source": []
  }
 ],
 "metadata": {
  "kernelspec": {
   "display_name": "Python 3",
   "language": "python",
   "name": "python3"
  },
  "language_info": {
   "codemirror_mode": {
    "name": "ipython",
    "version": 3
   },
   "file_extension": ".py",
   "mimetype": "text/x-python",
   "name": "python",
   "nbconvert_exporter": "python",
   "pygments_lexer": "ipython3",
   "version": "3.7.4"
  }
 },
 "nbformat": 4,
 "nbformat_minor": 2
}
